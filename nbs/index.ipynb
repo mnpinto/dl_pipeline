{
 "cells": [
  {
   "cell_type": "code",
   "execution_count": 1,
   "metadata": {},
   "outputs": [],
   "source": [
    "#hide \n",
    "from nbdev.export import notebook2script"
   ]
  },
  {
   "cell_type": "markdown",
   "metadata": {},
   "source": [
    "# dl_pipeline\n",
    "\n",
    "> A general deep learning pipeline (in construction) for kaggle competitions and other projects."
   ]
  },
  {
   "cell_type": "markdown",
   "metadata": {},
   "source": [
    "## Install"
   ]
  },
  {
   "cell_type": "markdown",
   "metadata": {},
   "source": [
    "Setup with pip:\n",
    "\n",
    "`pip install dl_pipeline`\n",
    "\n",
    "Clone and editable setup:\n",
    "```bash\n",
    "git clone https://github.com/mnpinto/dl_pipeline\n",
    "cd dl_pipeline\n",
    "pip install -e .\n",
    "```"
   ]
  },
  {
   "cell_type": "markdown",
   "metadata": {},
   "source": [
    "## Rainforest Connection Species Audio Detection\n",
    "* Final ranking: 29th place (top 3%)\n",
    "* Final score: 0.940\n",
    "* Best single model (5-fold): 0.931\n",
    "* Train time for 5-folds of best single model (gtx 1080, i7-7700): ~150 min\n",
    "* Writeup: https://www.kaggle.com/c/rfcx-species-audio-detection/discussion/220306\n",
    "\n",
    "* Update 1: With [this](https://www.kaggle.com/c/rfcx-species-audio-detection/discussion/220389) post processing the final score improves to 0.950 and R"
   ]
  },
  {
   "cell_type": "markdown",
   "metadata": {},
   "source": [
    "```bash\n",
    "#!/bin/bash\n",
    "arch='densenet121'\n",
    "model_name='model_0'\n",
    "sample_rate=32000\n",
    "n_mels=128\n",
    "hop_length=640\n",
    "\n",
    "for fold in 0 1 2 3 4\n",
    "do\n",
    "    echo \"Training $model for fold $fold\"\n",
    "    kaggle_rainforest2021 --fold $fold --model_name $model_name \\\n",
    "        --model_arch $arch --sample_rate $sample_rate --n_mels $n_mels \\\n",
    "        --hop_length $hop_length --bs 32 --head_ps 0.8 \\\n",
    "        --tile_width 1024 --mixup true >> log.train\n",
    "done\n",
    "\n",
    "for tw in 64 128 256\n",
    "do\n",
    "    echo \"Generate predictions for $model with tile_width of $tw\"\n",
    "    kaggle_rainforest2021 --run_test true --model_name $model_name \\\n",
    "        --model_arch $arch --sample_rate $sample_rate --n_mels $n_mels \\\n",
    "        --hop_length $hop_length --tile_width $tw \\\n",
    "        --save_preds true >> log.predict\n",
    "done\n",
    "```"
   ]
  },
  {
   "cell_type": "code",
   "execution_count": 2,
   "metadata": {},
   "outputs": [
    {
     "name": "stdout",
     "output_type": "stream",
     "text": [
      "Converted 00_core.ipynb.\n",
      "Converted 00vision_losses.ipynb.\n",
      "Converted 00vision_models.ipynb.\n",
      "Converted 00vision_triplet.ipynb.\n",
      "Converted 01audio_augmentations.ipynb.\n",
      "Converted 01audio_core.ipynb.\n",
      "Converted 01audio_dataset.ipynb.\n",
      "Converted 01audio_util.ipynb.\n",
      "Converted index.ipynb.\n",
      "Converted kaggle_rfcx-species-audio-detection.ipynb.\n"
     ]
    }
   ],
   "source": [
    "#hide\n",
    "notebook2script()"
   ]
  }
 ],
 "metadata": {
  "kernelspec": {
   "display_name": "Python 3",
   "language": "python",
   "name": "python3"
  },
  "language_info": {
   "codemirror_mode": {
    "name": "ipython",
    "version": 3
   },
   "file_extension": ".py",
   "mimetype": "text/x-python",
   "name": "python",
   "nbconvert_exporter": "python",
   "pygments_lexer": "ipython3",
   "version": "3.8.0"
  }
 },
 "nbformat": 4,
 "nbformat_minor": 2
}
