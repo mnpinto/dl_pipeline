{
 "cells": [
  {
   "cell_type": "code",
   "execution_count": 1,
   "metadata": {},
   "outputs": [],
   "source": [
    "#default_exp vision.losses"
   ]
  },
  {
   "cell_type": "markdown",
   "metadata": {},
   "source": [
    "# Vision Losses\n",
    "> Loss functions for computer vision tasks"
   ]
  },
  {
   "cell_type": "code",
   "execution_count": 2,
   "metadata": {},
   "outputs": [],
   "source": [
    "#hide \n",
    "from nbdev.export import notebook2script"
   ]
  },
  {
   "cell_type": "code",
   "execution_count": 3,
   "metadata": {},
   "outputs": [],
   "source": [
    "#export\n",
    "from fastai.vision.all import *"
   ]
  },
  {
   "cell_type": "code",
   "execution_count": 4,
   "metadata": {},
   "outputs": [],
   "source": [
    "#export\n",
    "def after_loss(loss, y=None):\n",
    "    return loss\n",
    "\n",
    "def cross_entropy(x, y, before=lambda *o:o, after=after_loss):\n",
    "    f = nn.CrossEntropyLoss()\n",
    "    loss = after(f(*before(x,y)), y=y)\n",
    "    return loss\n",
    "\n",
    "def cross_entropy_mixup(x, y, before=lambda *o:o, after=after_loss):\n",
    "    if isinstance(y, dict):\n",
    "        f = nn.CrossEntropyLoss(reduction='none')\n",
    "        x0, y0 = before(x, y['yb'])\n",
    "        x1, y1 = before(x, y['yb1'])\n",
    "        a = y['a'].unsqueeze(1)\n",
    "        loss = a*f(x0, y0) + (1-a)*f(x1, y1)\n",
    "        loss = after(loss, y=y)\n",
    "        return loss.mean()\n",
    "    else: return cross_entropy(x, y, before=before, after=after)\n",
    "\n",
    "def binary_cross_entropy(x, y, before=lambda *o:o, after=after_loss):\n",
    "    f = nn.BCEWithLogitsLoss()\n",
    "    x, y = before(x, y)\n",
    "    if x.shape != y.shape:\n",
    "        y = F.one_hot(y, x.shape[1]).float()\n",
    "    loss = after(f(x,y), y=y)\n",
    "    return loss\n",
    "\n",
    "def binary_cross_entropy_mixup(x, y, before=lambda *o:o, after=after_loss):\n",
    "    if isinstance(y, dict):\n",
    "        f = nn.BCEWithLogitsLoss(reduction='none')\n",
    "        x0, y0 = before(x, y['yb'])\n",
    "        x1, y1 = before(x, y['yb1'])\n",
    "        a = y['a'].unsqueeze(1)\n",
    "        y0 = F.one_hot(y0, x0.shape[1]).float()\n",
    "        y1 = F.one_hot(y1, x1.shape[1]).float()\n",
    "        loss = a*f(x0, y0) + (1-a)*f(x1, y1)\n",
    "        loss = after(loss, y=y)\n",
    "        return loss.mean()\n",
    "    else: return binary_cross_entropy(x, y, before=before, after=after)\n",
    "    \n",
    "def binary_cross_entropy_scaled_mixup(x, y, before=lambda *o:o, after=after_loss, weights=[0.1,1]):\n",
    "    if isinstance(y, dict):\n",
    "        f = nn.BCEWithLogitsLoss(reduction='none')\n",
    "        x0, y0 = before(x, y['yb'])\n",
    "        x1, y1 = before(x, y['yb1'])\n",
    "        a = y['a'].unsqueeze(1)\n",
    "        y0 = F.one_hot(y0, x0.shape[1]).float()\n",
    "        y1 = F.one_hot(y1, x1.shape[1]).float()\n",
    "        y = y0*a + (1-a)*y1\n",
    "        loss = a*f(x0, y0) + (1-a)*f(x1, y1)\n",
    "        loss = torch.cat([loss[y<0.5]*weights[0],loss[y>=0.5]*weights[1]])\n",
    "        loss = after(loss, y=y)\n",
    "        return loss.mean()\n",
    "    else: return binary_cross_entropy(x, y, before=before, after=after)\n",
    "\n",
    "def focal_loss(x, y, alpha=1, gamma=2, before=lambda *o:o, after=after_loss):\n",
    "    \"Adapted from https://www.kaggle.com/c/rfcx-species-audio-detection/discussion/213075\"\n",
    "    f = nn.BCEWithLogitsLoss(reduction='none')\n",
    "    x, y = before(x, y)\n",
    "    if x.shape != y.shape:\n",
    "        y = F.one_hot(y, x.shape[1]).float()\n",
    "    bce_loss = f(x, y)\n",
    "    p = bce_loss.sigmoid()\n",
    "    loss = torch.where(y >= 0.5, alpha * (1. - p)**gamma * bce_loss, p**gamma * bce_loss)\n",
    "    loss = after(loss, y=y)\n",
    "    return loss.mean()"
   ]
  },
  {
   "cell_type": "code",
   "execution_count": 5,
   "metadata": {},
   "outputs": [],
   "source": [
    "#export \n",
    "def get_loss(loss_func, before=lambda *o:o, after=after_loss):\n",
    "    if loss_func == 'cross_entropy':\n",
    "        return partial(cross_entropy, before=before, after=after)\n",
    "    if loss_func == 'cross_entropy_mixup':\n",
    "        return partial(cross_entropy_mixup, before=before, after=after)\n",
    "    if loss_func == 'binary_cross_entropy':\n",
    "        return partial(binary_cross_entropy, before=before, after=after)\n",
    "    if loss_func == 'binary_cross_entropy_mixup':\n",
    "        return partial(binary_cross_entropy_mixup, before=before, after=after)\n",
    "    if loss_func == 'focal_loss':\n",
    "        return partial(focal_loss, before=before, after=after)\n",
    "    if loss_func == 'binary_cross_entropy_scaled_mixup':\n",
    "        return partial(binary_cross_entropy_scaled_mixup, before=before, after=after)\n",
    "    raise Exception(f'{loss_func} not defined.')"
   ]
  },
  {
   "cell_type": "code",
   "execution_count": 6,
   "metadata": {},
   "outputs": [
    {
     "name": "stdout",
     "output_type": "stream",
     "text": [
      "Converted 00_core.ipynb.\n",
      "Converted 00vision_losses.ipynb.\n",
      "Converted 00vision_models.ipynb.\n",
      "Converted 00vision_triplet.ipynb.\n",
      "Converted 01audio_augmentations.ipynb.\n",
      "Converted 01audio_core.ipynb.\n",
      "Converted 01audio_dataset.ipynb.\n",
      "Converted 01audio_util.ipynb.\n",
      "Converted 88_external_xresnet_ssa.ipynb.\n",
      "Converted index.ipynb.\n",
      "Converted kaggle_rfcx-species-audio-detection-sed.ipynb.\n",
      "Converted kaggle_rfcx-species-audio-detection.ipynb.\n"
     ]
    }
   ],
   "source": [
    "#hide\n",
    "notebook2script()"
   ]
  }
 ],
 "metadata": {
  "kernelspec": {
   "display_name": "Python (banet_dev)",
   "language": "python",
   "name": "banet_dev"
  },
  "language_info": {
   "codemirror_mode": {
    "name": "ipython",
    "version": 3
   },
   "file_extension": ".py",
   "mimetype": "text/x-python",
   "name": "python",
   "nbconvert_exporter": "python",
   "pygments_lexer": "ipython3",
   "version": "3.8.0"
  }
 },
 "nbformat": 4,
 "nbformat_minor": 4
}
